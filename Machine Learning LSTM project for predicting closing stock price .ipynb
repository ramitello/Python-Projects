{
 "cells": [
  {
   "cell_type": "code",
   "execution_count": 1,
   "metadata": {},
   "outputs": [
    {
     "name": "stderr",
     "output_type": "stream",
     "text": [
      "Using TensorFlow backend.\n"
     ]
    }
   ],
   "source": [
    "import numpy as np\n",
    "import pandas as pd\n",
    "import matplotlib.pyplot as plt\n",
    "from sklearn.preprocessing import MinMaxScaler\n",
    "from keras.models import Sequential, load_model\n",
    "from keras.layers import LSTM, Dense, Dropout\n",
    "import os"
   ]
  },
  {
   "cell_type": "code",
   "execution_count": 2,
   "metadata": {},
   "outputs": [
    {
     "data": {
      "text/html": [
       "<div>\n",
       "<style scoped>\n",
       "    .dataframe tbody tr th:only-of-type {\n",
       "        vertical-align: middle;\n",
       "    }\n",
       "\n",
       "    .dataframe tbody tr th {\n",
       "        vertical-align: top;\n",
       "    }\n",
       "\n",
       "    .dataframe thead th {\n",
       "        text-align: right;\n",
       "    }\n",
       "</style>\n",
       "<table border=\"1\" class=\"dataframe\">\n",
       "  <thead>\n",
       "    <tr style=\"text-align: right;\">\n",
       "      <th></th>\n",
       "      <th>Unnamed: 0</th>\n",
       "      <th>BBRI.JK.Open</th>\n",
       "      <th>BBRI.JK.High</th>\n",
       "      <th>BBRI.JK.Low</th>\n",
       "      <th>BBRI.JK.Close</th>\n",
       "      <th>BBRI.JK.Volume</th>\n",
       "      <th>BBRI.JK.Adjusted</th>\n",
       "    </tr>\n",
       "  </thead>\n",
       "  <tbody>\n",
       "    <tr>\n",
       "      <th>0</th>\n",
       "      <td>1</td>\n",
       "      <td>1360</td>\n",
       "      <td>1370</td>\n",
       "      <td>1350</td>\n",
       "      <td>1360</td>\n",
       "      <td>15835000.0</td>\n",
       "      <td>585.226135</td>\n",
       "    </tr>\n",
       "    <tr>\n",
       "      <th>1</th>\n",
       "      <td>2</td>\n",
       "      <td>1380</td>\n",
       "      <td>1390</td>\n",
       "      <td>1360</td>\n",
       "      <td>1380</td>\n",
       "      <td>81980000.0</td>\n",
       "      <td>593.832397</td>\n",
       "    </tr>\n",
       "    <tr>\n",
       "      <th>2</th>\n",
       "      <td>3</td>\n",
       "      <td>1390</td>\n",
       "      <td>1390</td>\n",
       "      <td>1370</td>\n",
       "      <td>1390</td>\n",
       "      <td>151180000.0</td>\n",
       "      <td>598.135620</td>\n",
       "    </tr>\n",
       "    <tr>\n",
       "      <th>3</th>\n",
       "      <td>4</td>\n",
       "      <td>1390</td>\n",
       "      <td>1400</td>\n",
       "      <td>1370</td>\n",
       "      <td>1390</td>\n",
       "      <td>134337500.0</td>\n",
       "      <td>598.135620</td>\n",
       "    </tr>\n",
       "    <tr>\n",
       "      <th>4</th>\n",
       "      <td>5</td>\n",
       "      <td>1380</td>\n",
       "      <td>1400</td>\n",
       "      <td>1370</td>\n",
       "      <td>1380</td>\n",
       "      <td>105145000.0</td>\n",
       "      <td>593.832397</td>\n",
       "    </tr>\n",
       "  </tbody>\n",
       "</table>\n",
       "</div>"
      ],
      "text/plain": [
       "   Unnamed: 0  BBRI.JK.Open  BBRI.JK.High  BBRI.JK.Low  BBRI.JK.Close  \\\n",
       "0           1          1360          1370         1350           1360   \n",
       "1           2          1380          1390         1360           1380   \n",
       "2           3          1390          1390         1370           1390   \n",
       "3           4          1390          1400         1370           1390   \n",
       "4           5          1380          1400         1370           1380   \n",
       "\n",
       "   BBRI.JK.Volume  BBRI.JK.Adjusted  \n",
       "0      15835000.0        585.226135  \n",
       "1      81980000.0        593.832397  \n",
       "2     151180000.0        598.135620  \n",
       "3     134337500.0        598.135620  \n",
       "4     105145000.0        593.832397  "
      ]
     },
     "execution_count": 2,
     "metadata": {},
     "output_type": "execute_result"
    }
   ],
   "source": [
    "df = pd.read_csv('/Users/rami/BRI_Price_Omit2.csv')\n",
    "df.head()\n"
   ]
  },
  {
   "cell_type": "code",
   "execution_count": 3,
   "metadata": {},
   "outputs": [
    {
     "name": "stdout",
     "output_type": "stream",
     "text": [
      "(1253, 1)\n"
     ]
    },
    {
     "data": {
      "text/plain": [
       "array([[1360],\n",
       "       [1380],\n",
       "       [1390],\n",
       "       [1390],\n",
       "       [1380]])"
      ]
     },
     "execution_count": 3,
     "metadata": {},
     "output_type": "execute_result"
    }
   ],
   "source": [
    "df = df['BBRI.JK.Close'].values\n",
    "df = df.reshape(-1, 1)\n",
    "print(df.shape)\n",
    "df[:5]"
   ]
  },
  {
   "cell_type": "markdown",
   "metadata": {},
   "source": [
    "After reshaping the data. I will know split the data to a training and testing subset. \n",
    "\n",
    "For this LSTM we will use the first 50 closing prices to predict the closing price at time 51. \n",
    "so, in order to predict the stock price at time t we will use the closing prices from t-50 to t-1 "
   ]
  },
  {
   "cell_type": "code",
   "execution_count": 4,
   "metadata": {},
   "outputs": [
    {
     "name": "stdout",
     "output_type": "stream",
     "text": [
      "(1127, 1)\n",
      "(176, 1)\n"
     ]
    }
   ],
   "source": [
    "dataset_train = np.array(df[:int(df.shape[0]*0.9)])\n",
    "dataset_test = np.array(df[int(df.shape[0]*0.9)-50:])\n",
    "print(dataset_train.shape)\n",
    "print(dataset_test.shape)"
   ]
  },
  {
   "cell_type": "code",
   "execution_count": 5,
   "metadata": {},
   "outputs": [
    {
     "name": "stderr",
     "output_type": "stream",
     "text": [
      "/anaconda3/lib/python3.7/site-packages/sklearn/utils/validation.py:595: DataConversionWarning: Data with input dtype int64 was converted to float64 by MinMaxScaler.\n",
      "  warnings.warn(msg, DataConversionWarning)\n"
     ]
    },
    {
     "data": {
      "text/plain": [
       "array([[0.19314642],\n",
       "       [0.20560748],\n",
       "       [0.21183801],\n",
       "       [0.21183801],\n",
       "       [0.20560748]])"
      ]
     },
     "execution_count": 5,
     "metadata": {},
     "output_type": "execute_result"
    }
   ],
   "source": [
    "scaler = MinMaxScaler(feature_range=(0,1))\n",
    "dataset_train = scaler.fit_transform(dataset_train)\n",
    "dataset_train[:5]"
   ]
  },
  {
   "cell_type": "code",
   "execution_count": 6,
   "metadata": {},
   "outputs": [
    {
     "data": {
      "text/plain": [
       "array([[0.66666667],\n",
       "       [0.6728972 ],\n",
       "       [0.6728972 ],\n",
       "       [0.63862928],\n",
       "       [0.63239875]])"
      ]
     },
     "execution_count": 6,
     "metadata": {},
     "output_type": "execute_result"
    }
   ],
   "source": [
    "dataset_test = scaler.transform(dataset_test)\n",
    "dataset_test[:5]"
   ]
  },
  {
   "cell_type": "code",
   "execution_count": 7,
   "metadata": {},
   "outputs": [],
   "source": [
    "def create_dataset(df):\n",
    "    x = []\n",
    "    y = []\n",
    "    for i in range(50, df.shape[0]):\n",
    "        x.append(df[i-50:i, 0])\n",
    "        y.append(df[i, 0])\n",
    "    x = np.array(x)\n",
    "    y = np.array(y)\n",
    "    return x,y"
   ]
  },
  {
   "cell_type": "code",
   "execution_count": 8,
   "metadata": {},
   "outputs": [
    {
     "data": {
      "text/plain": [
       "array([[0.19314642, 0.20560748, 0.21183801, 0.21183801, 0.20560748,\n",
       "        0.21806854, 0.22429907, 0.21806854, 0.20560748, 0.19937695,\n",
       "        0.19314642, 0.21183801, 0.22429907, 0.23676012, 0.22429907,\n",
       "        0.21806854, 0.21183801, 0.21806854, 0.21806854, 0.20560748,\n",
       "        0.19937695, 0.22429907, 0.2305296 , 0.23676012, 0.21806854,\n",
       "        0.19937695, 0.23676012, 0.21183801, 0.17445483, 0.19937695,\n",
       "        0.18068536, 0.17445483, 0.18691589, 0.19314642, 0.19314642,\n",
       "        0.20560748, 0.21183801, 0.19937695, 0.19314642, 0.17445483,\n",
       "        0.17445483, 0.20560748, 0.18068536, 0.17445483, 0.17445483,\n",
       "        0.1682243 , 0.14953271, 0.14330218, 0.14953271, 0.17445483]])"
      ]
     },
     "execution_count": 8,
     "metadata": {},
     "output_type": "execute_result"
    }
   ],
   "source": [
    "x_train, y_train = create_dataset(dataset_train)\n",
    "x_train[:1]"
   ]
  },
  {
   "cell_type": "code",
   "execution_count": 9,
   "metadata": {},
   "outputs": [
    {
     "data": {
      "text/plain": [
       "array([[0.66666667, 0.6728972 , 0.6728972 , 0.63862928, 0.63239875,\n",
       "        0.60436137, 0.58878505, 0.59813084, 0.61682243, 0.62305296,\n",
       "        0.63239875, 0.64174455, 0.65420561, 0.64485981, 0.62928349,\n",
       "        0.61993769, 0.63862928, 0.67601246, 0.69158879, 0.68535826,\n",
       "        0.76012461, 0.7788162 , 0.78504673, 0.76323988, 0.7788162 ,\n",
       "        0.77570093, 0.81619938, 0.82554517, 0.7788162 , 0.7694704 ,\n",
       "        0.76012461, 0.78504673, 0.79127726, 0.76635514, 0.78193146,\n",
       "        0.80685358, 0.80996885, 0.79750779, 0.81619938, 0.83800623,\n",
       "        0.85981308, 0.8411215 , 0.8411215 , 0.82866044, 0.83489097,\n",
       "        0.8411215 , 0.85358255, 0.85358255, 0.8411215 , 0.82242991]])"
      ]
     },
     "execution_count": 9,
     "metadata": {},
     "output_type": "execute_result"
    }
   ],
   "source": [
    "x_test, y_test = create_dataset(dataset_test)\n",
    "x_test[:1]"
   ]
  },
  {
   "cell_type": "code",
   "execution_count": 10,
   "metadata": {},
   "outputs": [],
   "source": [
    "x_train = np.reshape(x_train, (x_train.shape[0], x_train.shape[1], 1))\n",
    "x_test = np.reshape(x_test, (x_test.shape[0], x_test.shape[1], 1))"
   ]
  },
  {
   "cell_type": "code",
   "execution_count": 24,
   "metadata": {},
   "outputs": [],
   "source": [
    "model = Sequential()\n",
    "model.add(LSTM(units=50, return_sequences=True, activation='relu', input_shape=(x_train.shape[1], 1)))\n",
    "model.add(Dropout(0.1))\n",
    "model.add(LSTM(units=100, activation='relu'))\n",
    "model.add(Dropout(0.1))\n",
    "model.add(Dense(units=1))"
   ]
  },
  {
   "cell_type": "code",
   "execution_count": 25,
   "metadata": {},
   "outputs": [],
   "source": [
    "model.compile(loss='mean_squared_error', optimizer='adam')"
   ]
  },
  {
   "cell_type": "code",
   "execution_count": 26,
   "metadata": {},
   "outputs": [
    {
     "name": "stdout",
     "output_type": "stream",
     "text": [
      "Train on 1077 samples, validate on 126 samples\n",
      "Epoch 1/100\n",
      "1077/1077 [==============================] - 6s 5ms/step - loss: 0.0799 - val_loss: 0.0032\n",
      "Epoch 2/100\n",
      "1077/1077 [==============================] - 4s 4ms/step - loss: 0.0066 - val_loss: 0.0022\n",
      "Epoch 3/100\n",
      "1077/1077 [==============================] - 4s 4ms/step - loss: 0.0046 - val_loss: 0.0023\n",
      "Epoch 4/100\n",
      "1077/1077 [==============================] - 4s 3ms/step - loss: 0.0043 - val_loss: 0.0020\n",
      "Epoch 5/100\n",
      "1077/1077 [==============================] - 4s 4ms/step - loss: 0.0042 - val_loss: 0.0020\n",
      "Epoch 6/100\n",
      "1077/1077 [==============================] - 4s 4ms/step - loss: 0.0041 - val_loss: 0.0019\n",
      "Epoch 7/100\n",
      "1077/1077 [==============================] - 4s 3ms/step - loss: 0.0041 - val_loss: 0.0019\n",
      "Epoch 8/100\n",
      "1077/1077 [==============================] - 5s 5ms/step - loss: 0.0036 - val_loss: 0.0033\n",
      "Epoch 9/100\n",
      "1077/1077 [==============================] - 4s 4ms/step - loss: 0.0037 - val_loss: 0.0018\n",
      "Epoch 10/100\n",
      "1077/1077 [==============================] - 4s 3ms/step - loss: 0.0036 - val_loss: 0.0019\n",
      "Epoch 11/100\n",
      "1077/1077 [==============================] - 4s 3ms/step - loss: 0.0035 - val_loss: 0.0019\n",
      "Epoch 12/100\n",
      "1077/1077 [==============================] - 4s 3ms/step - loss: 0.0034 - val_loss: 0.0016\n",
      "Epoch 13/100\n",
      "1077/1077 [==============================] - 4s 4ms/step - loss: 0.0032 - val_loss: 0.0020\n",
      "Epoch 14/100\n",
      "1077/1077 [==============================] - 4s 3ms/step - loss: 0.0033 - val_loss: 0.0016\n",
      "Epoch 15/100\n",
      "1077/1077 [==============================] - 4s 3ms/step - loss: 0.0033 - val_loss: 0.0017\n",
      "Epoch 16/100\n",
      "1077/1077 [==============================] - 4s 3ms/step - loss: 0.0029 - val_loss: 0.0015\n",
      "Epoch 17/100\n",
      "1077/1077 [==============================] - 4s 4ms/step - loss: 0.0030 - val_loss: 0.0015\n",
      "Epoch 18/100\n",
      "1077/1077 [==============================] - 4s 3ms/step - loss: 0.0029 - val_loss: 0.0021\n",
      "Epoch 19/100\n",
      "1077/1077 [==============================] - 4s 4ms/step - loss: 0.0031 - val_loss: 0.0021\n",
      "Epoch 20/100\n",
      "1077/1077 [==============================] - 4s 3ms/step - loss: 0.0030 - val_loss: 0.0025\n",
      "Epoch 21/100\n",
      "1077/1077 [==============================] - 3s 3ms/step - loss: 0.0034 - val_loss: 0.0013\n",
      "Epoch 22/100\n",
      "1077/1077 [==============================] - 4s 4ms/step - loss: 0.0029 - val_loss: 0.0017\n",
      "Epoch 23/100\n",
      "1077/1077 [==============================] - 5s 4ms/step - loss: 0.0028 - val_loss: 0.0013\n",
      "Epoch 24/100\n",
      "1077/1077 [==============================] - 4s 4ms/step - loss: 0.0026 - val_loss: 0.0013\n",
      "Epoch 25/100\n",
      "1077/1077 [==============================] - 4s 4ms/step - loss: 0.0023 - val_loss: 0.0013\n",
      "Epoch 26/100\n",
      "1077/1077 [==============================] - 5s 4ms/step - loss: 0.0024 - val_loss: 0.0013\n",
      "Epoch 27/100\n",
      "1077/1077 [==============================] - 4s 4ms/step - loss: 0.0025 - val_loss: 0.0015\n",
      "Epoch 28/100\n",
      "1077/1077 [==============================] - 4s 4ms/step - loss: 0.0024 - val_loss: 0.0013\n",
      "Epoch 29/100\n",
      "1077/1077 [==============================] - 4s 4ms/step - loss: 0.0024 - val_loss: 0.0013\n",
      "Epoch 30/100\n",
      "1077/1077 [==============================] - 4s 3ms/step - loss: 0.0024 - val_loss: 0.0016\n",
      "Epoch 31/100\n",
      "1077/1077 [==============================] - 4s 4ms/step - loss: 0.0023 - val_loss: 0.0017\n",
      "Epoch 32/100\n",
      "1077/1077 [==============================] - 4s 4ms/step - loss: 0.0024 - val_loss: 0.0013\n",
      "Epoch 33/100\n",
      "1077/1077 [==============================] - 4s 4ms/step - loss: 0.0024 - val_loss: 0.0020\n",
      "Epoch 34/100\n",
      "1077/1077 [==============================] - 4s 3ms/step - loss: 0.0023 - val_loss: 0.0019\n",
      "Epoch 35/100\n",
      "1077/1077 [==============================] - 4s 3ms/step - loss: 0.0023 - val_loss: 0.0014\n",
      "Epoch 36/100\n",
      "1077/1077 [==============================] - 5s 4ms/step - loss: 0.0023 - val_loss: 0.0016\n",
      "Epoch 37/100\n",
      "1077/1077 [==============================] - 5s 4ms/step - loss: 0.0022 - val_loss: 0.0030\n",
      "Epoch 38/100\n",
      "1077/1077 [==============================] - 4s 4ms/step - loss: 0.0023 - val_loss: 0.0012\n",
      "Epoch 39/100\n",
      "1077/1077 [==============================] - 4s 3ms/step - loss: 0.0022 - val_loss: 0.0010\n",
      "Epoch 40/100\n",
      "1077/1077 [==============================] - 4s 4ms/step - loss: 0.0021 - val_loss: 0.0011\n",
      "Epoch 41/100\n",
      "1077/1077 [==============================] - 4s 4ms/step - loss: 0.0021 - val_loss: 0.0011\n",
      "Epoch 42/100\n",
      "1077/1077 [==============================] - 4s 4ms/step - loss: 0.0019 - val_loss: 0.0016\n",
      "Epoch 43/100\n",
      "1077/1077 [==============================] - 4s 3ms/step - loss: 0.0022 - val_loss: 0.0022\n",
      "Epoch 44/100\n",
      "1077/1077 [==============================] - 4s 4ms/step - loss: 0.0022 - val_loss: 9.5608e-04\n",
      "Epoch 45/100\n",
      "1077/1077 [==============================] - 4s 4ms/step - loss: 0.0021 - val_loss: 0.0017\n",
      "Epoch 46/100\n",
      "1077/1077 [==============================] - 4s 4ms/step - loss: 0.0020 - val_loss: 0.0012\n",
      "Epoch 47/100\n",
      "1077/1077 [==============================] - 4s 3ms/step - loss: 0.0023 - val_loss: 0.0019\n",
      "Epoch 48/100\n",
      "1077/1077 [==============================] - 4s 4ms/step - loss: 0.0021 - val_loss: 0.0011\n",
      "Epoch 49/100\n",
      "1077/1077 [==============================] - 5s 4ms/step - loss: 0.0023 - val_loss: 0.0011\n",
      "Epoch 50/100\n",
      "1077/1077 [==============================] - 4s 4ms/step - loss: 0.0021 - val_loss: 0.0012\n",
      "Epoch 51/100\n",
      "1077/1077 [==============================] - 4s 4ms/step - loss: 0.0019 - val_loss: 8.0402e-04\n",
      "Epoch 52/100\n",
      "1077/1077 [==============================] - 5s 4ms/step - loss: 0.0019 - val_loss: 8.5648e-04\n",
      "Epoch 53/100\n",
      "1077/1077 [==============================] - 4s 4ms/step - loss: 0.0021 - val_loss: 7.9351e-04\n",
      "Epoch 54/100\n",
      "1077/1077 [==============================] - 4s 4ms/step - loss: 0.0019 - val_loss: 0.0015\n",
      "Epoch 55/100\n",
      "1077/1077 [==============================] - 5s 4ms/step - loss: 0.0019 - val_loss: 7.3625e-04\n",
      "Epoch 56/100\n",
      "1077/1077 [==============================] - 4s 4ms/step - loss: 0.0018 - val_loss: 7.1656e-04\n",
      "Epoch 57/100\n",
      "1077/1077 [==============================] - 4s 4ms/step - loss: 0.0017 - val_loss: 0.0012\n",
      "Epoch 58/100\n",
      "1077/1077 [==============================] - 4s 4ms/step - loss: 0.0020 - val_loss: 7.6852e-04\n",
      "Epoch 59/100\n",
      "1077/1077 [==============================] - 4s 3ms/step - loss: 0.0019 - val_loss: 0.0011\n",
      "Epoch 60/100\n",
      "1077/1077 [==============================] - 5s 4ms/step - loss: 0.0018 - val_loss: 6.8928e-04\n",
      "Epoch 61/100\n",
      "1077/1077 [==============================] - 6s 5ms/step - loss: 0.0018 - val_loss: 0.0019\n",
      "Epoch 62/100\n",
      "1077/1077 [==============================] - 5s 4ms/step - loss: 0.0020 - val_loss: 8.4865e-04\n",
      "Epoch 63/100\n",
      "1077/1077 [==============================] - 5s 4ms/step - loss: 0.0017 - val_loss: 7.5201e-04\n",
      "Epoch 64/100\n",
      "1077/1077 [==============================] - 5s 4ms/step - loss: 0.0017 - val_loss: 6.8174e-04\n",
      "Epoch 65/100\n",
      "1077/1077 [==============================] - 5s 4ms/step - loss: 0.0017 - val_loss: 7.3879e-04\n",
      "Epoch 66/100\n",
      "1077/1077 [==============================] - 5s 5ms/step - loss: 0.0018 - val_loss: 6.8515e-04\n",
      "Epoch 67/100\n",
      "1077/1077 [==============================] - 6s 5ms/step - loss: 0.0017 - val_loss: 5.9653e-04\n",
      "Epoch 68/100\n",
      "1077/1077 [==============================] - 5s 5ms/step - loss: 0.0017 - val_loss: 0.0010\n",
      "Epoch 69/100\n",
      "1077/1077 [==============================] - 4s 4ms/step - loss: 0.0016 - val_loss: 0.0026\n",
      "Epoch 70/100\n",
      "1077/1077 [==============================] - 4s 4ms/step - loss: 0.0017 - val_loss: 5.5987e-04\n",
      "Epoch 71/100\n",
      "1077/1077 [==============================] - 4s 4ms/step - loss: 0.0015 - val_loss: 7.0723e-04\n",
      "Epoch 72/100\n",
      "1077/1077 [==============================] - 4s 4ms/step - loss: 0.0017 - val_loss: 6.2575e-04\n",
      "Epoch 73/100\n",
      "1077/1077 [==============================] - 5s 5ms/step - loss: 0.0017 - val_loss: 7.1261e-04\n",
      "Epoch 74/100\n",
      "1077/1077 [==============================] - 5s 5ms/step - loss: 0.0016 - val_loss: 6.2730e-04\n",
      "Epoch 75/100\n",
      "1077/1077 [==============================] - 6s 5ms/step - loss: 0.0016 - val_loss: 6.0282e-04\n",
      "Epoch 76/100\n",
      "1077/1077 [==============================] - 5s 5ms/step - loss: 0.0016 - val_loss: 0.0013\n",
      "Epoch 77/100\n",
      "1077/1077 [==============================] - 5s 5ms/step - loss: 0.0017 - val_loss: 5.6007e-04\n",
      "Epoch 78/100\n",
      "1077/1077 [==============================] - 4s 4ms/step - loss: 0.0017 - val_loss: 7.3371e-04\n",
      "Epoch 79/100\n",
      "1077/1077 [==============================] - 5s 5ms/step - loss: 0.0016 - val_loss: 7.7190e-04\n",
      "Epoch 80/100\n",
      "1077/1077 [==============================] - 5s 4ms/step - loss: 0.0018 - val_loss: 6.0830e-04\n",
      "Epoch 81/100\n",
      "1077/1077 [==============================] - 4s 4ms/step - loss: 0.0019 - val_loss: 6.5779e-04\n",
      "Epoch 82/100\n",
      "1077/1077 [==============================] - 5s 5ms/step - loss: 0.0016 - val_loss: 7.6499e-04\n",
      "Epoch 83/100\n",
      "1077/1077 [==============================] - 5s 5ms/step - loss: 0.0016 - val_loss: 6.5367e-04\n",
      "Epoch 84/100\n",
      "1077/1077 [==============================] - 5s 4ms/step - loss: 0.0015 - val_loss: 5.7216e-04\n",
      "Epoch 85/100\n",
      "1077/1077 [==============================] - 4s 4ms/step - loss: 0.0015 - val_loss: 0.0010\n",
      "Epoch 86/100\n",
      "1077/1077 [==============================] - 4s 4ms/step - loss: 0.0016 - val_loss: 6.9060e-04\n",
      "Epoch 87/100\n",
      "1077/1077 [==============================] - 5s 4ms/step - loss: 0.0015 - val_loss: 9.9074e-04\n",
      "Epoch 88/100\n",
      "1077/1077 [==============================] - 5s 4ms/step - loss: 0.0014 - val_loss: 6.6471e-04\n",
      "Epoch 89/100\n",
      "1077/1077 [==============================] - 5s 4ms/step - loss: 0.0015 - val_loss: 5.2434e-04\n",
      "Epoch 90/100\n",
      "1077/1077 [==============================] - 5s 5ms/step - loss: 0.0015 - val_loss: 5.9039e-04\n",
      "Epoch 91/100\n",
      "1077/1077 [==============================] - 5s 4ms/step - loss: 0.0015 - val_loss: 5.1223e-04\n",
      "Epoch 92/100\n",
      "1077/1077 [==============================] - 5s 5ms/step - loss: 0.0015 - val_loss: 6.3882e-04\n",
      "Epoch 93/100\n",
      "1077/1077 [==============================] - 4s 4ms/step - loss: 0.0016 - val_loss: 0.0019\n",
      "Epoch 94/100\n",
      "1077/1077 [==============================] - 5s 5ms/step - loss: 0.0015 - val_loss: 6.0297e-04\n",
      "Epoch 95/100\n",
      "1077/1077 [==============================] - 5s 4ms/step - loss: 0.0015 - val_loss: 8.8819e-04\n",
      "Epoch 96/100\n",
      "1077/1077 [==============================] - 5s 5ms/step - loss: 0.0015 - val_loss: 4.9335e-04\n",
      "Epoch 97/100\n",
      "1077/1077 [==============================] - 5s 5ms/step - loss: 0.0016 - val_loss: 5.8844e-04\n",
      "Epoch 98/100\n",
      "1077/1077 [==============================] - 5s 4ms/step - loss: 0.0014 - val_loss: 5.1975e-04\n",
      "Epoch 99/100\n",
      "1077/1077 [==============================] - 5s 4ms/step - loss: 0.0014 - val_loss: 5.1427e-04\n",
      "Epoch 100/100\n",
      "1077/1077 [==============================] - 4s 4ms/step - loss: 0.0014 - val_loss: 6.6497e-04\n"
     ]
    }
   ],
   "source": [
    "history = model.fit(x_train, y_train, epochs=100, batch_size=32, validation_data=(x_test, y_test))"
   ]
  },
  {
   "cell_type": "code",
   "execution_count": 27,
   "metadata": {},
   "outputs": [],
   "source": [
    "import matplotlib.pyplot as plt"
   ]
  },
  {
   "cell_type": "code",
   "execution_count": 28,
   "metadata": {},
   "outputs": [],
   "source": [
    "training_loss = history.history['loss']\n",
    "test_loss = history.history['val_loss']"
   ]
  },
  {
   "cell_type": "code",
   "execution_count": 29,
   "metadata": {},
   "outputs": [],
   "source": [
    "epoch_count = range(1, len(training_loss) + 1)"
   ]
  },
  {
   "cell_type": "code",
   "execution_count": 30,
   "metadata": {},
   "outputs": [
    {
     "data": {
      "image/png": "[encoded data removed]",
      "text/plain": [
       "<Figure size 432x288 with 1 Axes>"
      ]
     },
     "metadata": {
      "needs_background": "light"
     },
     "output_type": "display_data"
    }
   ],
   "source": [
    "plt.plot(epoch_count, training_loss, 'r--')\n",
    "plt.plot(epoch_count, test_loss, 'b-')\n",
    "plt.legend(['Training Loss', 'Test Loss'])\n",
    "plt.xlabel('Epoch')\n",
    "plt.ylabel('Loss')\n",
    "plt.show();"
   ]
  },
  {
   "cell_type": "markdown",
   "metadata": {},
   "source": [
    "I will know plot the predicted closing prices in blue against the true closing price in red. \n",
    "Our results show that the LSTM was able to predict very well. But this graph is too zoomed out and in order to have a better look at the results, we will examin the results for just the period where we predicted closing stock price  "
   ]
  },
  {
   "cell_type": "code",
   "execution_count": 31,
   "metadata": {},
   "outputs": [
    {
     "data": {
      "text/plain": [
       "<matplotlib.legend.Legend at 0x1a379a7b00>"
      ]
     },
     "execution_count": 31,
     "metadata": {},
     "output_type": "execute_result"
    },
    {
     "data": {
      "image/png": "[encoded data removed]",
      "text/plain": [
       "<Figure size 576x288 with 1 Axes>"
      ]
     },
     "metadata": {
      "needs_background": "light"
     },
     "output_type": "display_data"
    }
   ],
   "source": [
    "predictions = model.predict(x_test)\n",
    "predictions = scaler.inverse_transform(predictions)\n",
    "\n",
    "fig, ax = plt.subplots(figsize=(8,4))\n",
    "plt.plot(df, color='red',  label=\"True Price\")\n",
    "ax.plot(range(len(y_train)+50,len(y_train)+50+len(predictions)),predictions, color='blue', label='Predicted Testing Price')\n",
    "plt.legend()"
   ]
  },
  {
   "cell_type": "code",
   "execution_count": 32,
   "metadata": {},
   "outputs": [],
   "source": [
    "training_loss = history.history['loss']\n",
    "test_loss = history.history['val_loss']"
   ]
  },
  {
   "cell_type": "code",
   "execution_count": 37,
   "metadata": {},
   "outputs": [
    {
     "data": {
      "image/png": "[encoded data removed]",
      "text/plain": [
       "<Figure size 576x288 with 1 Axes>"
      ]
     },
     "metadata": {
      "needs_background": "light"
     },
     "output_type": "display_data"
    }
   ],
   "source": [
    "y_test_scaled = scaler.inverse_transform(y_test.reshape(-1,1))\n",
    "\n",
    "fig, ax=plt.subplots(figsize=(8,4))\n",
    "ax.plot(y_test_scaled, color='red', label = 'True Testing Price')\n",
    "plt.plot(predictions, color='blue', label='Predicted Testing Price')\n",
    "plt.title('True vs Predicted Testing Price')\n",
    "plt.legend()\n",
    "plt.savefig(\"Project_Final.png\")"
   ]
  },
  {
   "cell_type": "code",
   "execution_count": null,
   "metadata": {},
   "outputs": [],
   "source": []
  }
 ],
 "metadata": {
  "kernelspec": {
   "display_name": "Python 3",
   "language": "python",
   "name": "python3"
  },
  "language_info": {
   "codemirror_mode": {
    "name": "ipython",
    "version": 3
   },
   "file_extension": ".py",
   "mimetype": "text/x-python",
   "name": "python",
   "nbconvert_exporter": "python",
   "pygments_lexer": "ipython3",
   "version": "3.7.1"
  }
 },
 "nbformat": 4,
 "nbformat_minor": 2
}
